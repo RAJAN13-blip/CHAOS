{
 "cells": [
  {
   "cell_type": "code",
   "execution_count": 1,
   "metadata": {},
   "outputs": [],
   "source": [
    "from dense import Dense\n",
    "from activations import *\n",
    "import numpy as np\n",
    "from losses import mse, mse_prime\n",
    "\n",
    "import bisect\n",
    "from sklearn import preprocessing\n",
    "\n",
    "\n",
    "\n",
    "import os\n",
    "import pandas as pd\n",
    "from parameters import *\n",
    "import copy\n",
    "import regex as re\n",
    "import matplotlib.pyplot as plt"
   ]
  },
  {
   "cell_type": "code",
   "execution_count": 2,
   "metadata": {},
   "outputs": [
    {
     "data": {
      "text/plain": [
       "'C:\\\\Users\\\\91993\\\\Desktop\\\\chaos'"
      ]
     },
     "execution_count": 2,
     "metadata": {},
     "output_type": "execute_result"
    }
   ],
   "source": [
    "\n",
    "os.chdir('C:\\\\Users\\\\91993\\\\Desktop\\\\chaos\\\\')\n",
    "home_path = os.getcwd()\n",
    "saved_path = home_path\n",
    "saved_path\n",
    "\n"
   ]
  },
  {
   "cell_type": "code",
   "execution_count": 3,
   "metadata": {},
   "outputs": [],
   "source": [
    "initialization_list = [i for i in range(1,10)]"
   ]
  },
  {
   "cell_type": "code",
   "execution_count": 4,
   "metadata": {},
   "outputs": [],
   "source": [
    "def visualize_weights(network):\n",
    "    for items in network:\n",
    "        if items.__class__.__name__ == 'Dense':\n",
    "            print(items.weights)\n",
    "            print(items.bias)\n",
    "\n",
    "\n",
    "def mask_weights(network,mask_list,weights_per_layer):\n",
    "    if len(mask_list)!=0:\n",
    "        for mask in mask_list:\n",
    "            index = bisect.bisect_left(weights_per_layer,mask)\n",
    "            shape_ = network[2*index].weights.shape\n",
    "\n",
    "\n",
    "            if index!=0:\n",
    "                mask = mask - weights_per_layer[index-1]\n",
    "\n",
    "\n",
    "            network[2*index].weights[(mask-1)//shape_[1]][(mask-1)%shape_[1]] = 0\n",
    "\n",
    "\n",
    "\n",
    "\n",
    "def predict(network, input,store_weights=False,list_w=[],list_b=[]):\n",
    "    output = input\n",
    "    for layer in network:\n",
    "        if layer.__class__.__name__ =='Dense' and store_weights==True:\n",
    "            output = layer.forward(output)\n",
    "            list_w.append(np.copy(layer.weights))\n",
    "            list_b.append(np.copy(layer.bias))\n",
    "        else :\n",
    "            output = layer.forward(output)\n",
    "\n",
    "\n",
    "    return output\n",
    "\n",
    "def get_accuracy(network,X_t,Y_t):\n",
    "    correct = 0\n",
    "    for x, y in zip(X_t, Y_t):\n",
    "        output = predict(network, x,store_weights=False)\n",
    "        if np.argmax(output)==np.argmax(y):\n",
    "            correct +=1\n",
    "\n",
    "    return correct\n",
    "\n",
    "def train(network, loss, loss_prime, x_train, y_train,x_test,y_test, epochs = 1000, learning_rate = 0.01, verbose = True,store_weights=False,mask_weight=False,mask_list=[],weights_per_layer=[],list_w=[],list_b=[]):\n",
    "    test_acc = []\n",
    "    train_acc = []\n",
    "    for e in range(epochs):\n",
    "        error = 0\n",
    "        for x, y in zip(x_train, y_train):\n",
    "            # forward\n",
    "            if mask_weight:\n",
    "                mask_weights(network,mask_list=mask_list,weights_per_layer=weights_per_layer)\n",
    "                \n",
    "            if store_weights :\n",
    "                output = predict(network, x,store_weights=store_weights,list_w=list_w,list_b=list_b)\n",
    "            else:\n",
    "                output = predict(network,x,store_weights=False)\n",
    "            # print(output)\n",
    "            # print(y)\n",
    "            # print(\"\")\n",
    "            # error\n",
    "            error += loss(y, output)\n",
    "\n",
    "            # backward\n",
    "            grad = loss_prime(y, output)\n",
    "            for layer in reversed(network):\n",
    "                grad = layer.backward(grad, learning_rate)\n",
    "\n",
    "            \n",
    "\n",
    "            if store_weights:\n",
    "                train_accuracy = get_accuracy(network,x_train,y_train)\n",
    "                accuracy = get_accuracy(network,x_test,y_test)\n",
    "                test_acc.append(accuracy/x_test.shape[0])\n",
    "                train_acc.append(train_accuracy/x_train.shape[0])\n",
    "\n",
    "        if store_weights!=True:\n",
    "            train_accuracy = get_accuracy(network,x_train,y_train)\n",
    "            accuracy = get_accuracy(network,x_test,y_test)\n",
    "            test_acc.append(accuracy/x_test.shape[0])\n",
    "            train_acc.append(train_accuracy/x_train.shape[0])\n",
    "                \n",
    "        error /= len(x_train)\n",
    "        if verbose:\n",
    "            print(f\"{e + 1}/{epochs}, error={error}\")\n",
    "        \n",
    "\n",
    "    return train_acc,test_acc\n",
    "\n",
    "def visualize(train_acc,test_acc):\n",
    "    plt.plot(train_acc[:])\n",
    "    plt.plot(test_acc[:])\n",
    "    plt.legend(['train','test'])\n",
    "    plt.show()"
   ]
  },
  {
   "cell_type": "code",
   "execution_count": 5,
   "metadata": {},
   "outputs": [],
   "source": [
    "network_list = []"
   ]
  },
  {
   "cell_type": "code",
   "execution_count": 6,
   "metadata": {},
   "outputs": [
    {
     "name": "stdout",
     "output_type": "stream",
     "text": [
      "[]\n",
      "\n",
      "['binary_sonar-1.npy']\n",
      "\n",
      "['binary_sonar-1.npy', 'binary_sonar-2.npy']\n",
      "\n",
      "['binary_sonar-1.npy', 'binary_sonar-2.npy', 'binary_sonar-3.npy']\n",
      "\n",
      "['binary_sonar-1.npy', 'binary_sonar-2.npy', 'binary_sonar-3.npy', 'binary_sonar-4.npy']\n",
      "\n",
      "['binary_sonar-1.npy', 'binary_sonar-2.npy', 'binary_sonar-3.npy', 'binary_sonar-4.npy', 'binary_sonar-5.npy']\n",
      "\n",
      "['binary_sonar-1.npy', 'binary_sonar-2.npy', 'binary_sonar-3.npy', 'binary_sonar-4.npy', 'binary_sonar-5.npy', 'binary_sonar-6.npy']\n"
     ]
    },
    {
     "name": "stderr",
     "output_type": "stream",
     "text": [
      "c:\\Users\\91993\\Desktop\\chaos\\parameters.py:15: VisibleDeprecationWarning: Creating an ndarray from ragged nested sequences (which is a list-or-tuple of lists-or-tuples-or ndarrays with different lengths or shapes) is deprecated. If you meant to do this, you must specify 'dtype=object' when creating the ndarray.\n",
      "  stored_weights = np.asarray(stored_weights);\n",
      "c:\\Users\\91993\\Desktop\\chaos\\parameters.py:15: VisibleDeprecationWarning: Creating an ndarray from ragged nested sequences (which is a list-or-tuple of lists-or-tuples-or ndarrays with different lengths or shapes) is deprecated. If you meant to do this, you must specify 'dtype=object' when creating the ndarray.\n",
      "  stored_weights = np.asarray(stored_weights);\n",
      "c:\\Users\\91993\\Desktop\\chaos\\parameters.py:15: VisibleDeprecationWarning: Creating an ndarray from ragged nested sequences (which is a list-or-tuple of lists-or-tuples-or ndarrays with different lengths or shapes) is deprecated. If you meant to do this, you must specify 'dtype=object' when creating the ndarray.\n",
      "  stored_weights = np.asarray(stored_weights);\n",
      "c:\\Users\\91993\\Desktop\\chaos\\parameters.py:15: VisibleDeprecationWarning: Creating an ndarray from ragged nested sequences (which is a list-or-tuple of lists-or-tuples-or ndarrays with different lengths or shapes) is deprecated. If you meant to do this, you must specify 'dtype=object' when creating the ndarray.\n",
      "  stored_weights = np.asarray(stored_weights);\n",
      "c:\\Users\\91993\\Desktop\\chaos\\parameters.py:15: VisibleDeprecationWarning: Creating an ndarray from ragged nested sequences (which is a list-or-tuple of lists-or-tuples-or ndarrays with different lengths or shapes) is deprecated. If you meant to do this, you must specify 'dtype=object' when creating the ndarray.\n",
      "  stored_weights = np.asarray(stored_weights);\n",
      "c:\\Users\\91993\\Desktop\\chaos\\parameters.py:15: VisibleDeprecationWarning: Creating an ndarray from ragged nested sequences (which is a list-or-tuple of lists-or-tuples-or ndarrays with different lengths or shapes) is deprecated. If you meant to do this, you must specify 'dtype=object' when creating the ndarray.\n",
      "  stored_weights = np.asarray(stored_weights);\n",
      "c:\\Users\\91993\\Desktop\\chaos\\parameters.py:15: VisibleDeprecationWarning: Creating an ndarray from ragged nested sequences (which is a list-or-tuple of lists-or-tuples-or ndarrays with different lengths or shapes) is deprecated. If you meant to do this, you must specify 'dtype=object' when creating the ndarray.\n",
      "  stored_weights = np.asarray(stored_weights);\n"
     ]
    },
    {
     "name": "stdout",
     "output_type": "stream",
     "text": [
      "\n",
      "['binary_sonar-1.npy', 'binary_sonar-2.npy', 'binary_sonar-3.npy', 'binary_sonar-4.npy', 'binary_sonar-5.npy', 'binary_sonar-6.npy', 'binary_sonar-7.npy']\n",
      "\n",
      "['binary_sonar-1.npy', 'binary_sonar-2.npy', 'binary_sonar-3.npy', 'binary_sonar-4.npy', 'binary_sonar-5.npy', 'binary_sonar-6.npy', 'binary_sonar-7.npy', 'binary_sonar-8.npy']\n",
      "\n"
     ]
    },
    {
     "name": "stderr",
     "output_type": "stream",
     "text": [
      "c:\\Users\\91993\\Desktop\\chaos\\parameters.py:15: VisibleDeprecationWarning: Creating an ndarray from ragged nested sequences (which is a list-or-tuple of lists-or-tuples-or ndarrays with different lengths or shapes) is deprecated. If you meant to do this, you must specify 'dtype=object' when creating the ndarray.\n",
      "  stored_weights = np.asarray(stored_weights);\n",
      "c:\\Users\\91993\\Desktop\\chaos\\parameters.py:15: VisibleDeprecationWarning: Creating an ndarray from ragged nested sequences (which is a list-or-tuple of lists-or-tuples-or ndarrays with different lengths or shapes) is deprecated. If you meant to do this, you must specify 'dtype=object' when creating the ndarray.\n",
      "  stored_weights = np.asarray(stored_weights);\n"
     ]
    }
   ],
   "source": [
    "for init in initialization_list:\n",
    "    home_path = saved_path\n",
    "    os.chdir(home_path)\n",
    "    path = home_path+'\\\\NN-RESULTS-FINAL\\\\datasets'\n",
    "    datasets_path = os.path.join(path,\"data\")\n",
    "    init_path = os.path.join(path,\"initializations\")\n",
    "    os.chdir(datasets_path)\n",
    "\n",
    "\n",
    "    datasets = os.listdir()\n",
    "\n",
    "    #-----------------------------control------------------------------#\n",
    "    data_curr = \"binary_sonar\"\n",
    "    initialization = init\n",
    "    new_init = True\n",
    "    #------------------------------------------------------------------#\n",
    "\n",
    "\n",
    "    #----------------------------------------------------------------------------------------#\n",
    "    init_path = os.path.join(path,\"initializations\")\n",
    "    path_initializations = f'{init_path}\\\\{data_curr}'\n",
    "    try:\n",
    "        list_init = os.listdir(path_initializations)\n",
    "    except:\n",
    "        os.mkdir(path_initializations)\n",
    "        list_init = os.listdir(path_initializations)\n",
    "\n",
    "    numbers = []\n",
    "\n",
    "    print(list_init)\n",
    "\n",
    "    for items in list_init:\n",
    "        if(re.search(f'{data_curr}',items)):\n",
    "            str_temp = items.split(\"-\")[1]\n",
    "            numbers.append(int(str_temp.split(\".\")[0]))\n",
    "\n",
    "\n",
    "\n",
    "\n",
    "    if numbers.__contains__(initialization) and new_init:\n",
    "        new_init = False\n",
    "        print(\"initialization already exists\")\n",
    "    else:\n",
    "        if len(numbers)==0:\n",
    "            initialization = 1\n",
    "        else:\n",
    "            initialization = numbers[-1]+1\n",
    "\n",
    "    #====================Data and Network Initialization======================================#\n",
    "    params = parameter_file(data_curr,path,initialization,new_init)\n",
    "\n",
    "    lr = params['learning_rate'] \n",
    "    epochs = params['num_epochs'] \n",
    "    loss = globals()[params['loss']]\n",
    "    loss_prime = globals()[params['loss']+'_prime']\n",
    "    network = params['network']\n",
    "    network_list.append(network)\n",
    "    start_weights = params['init']\n",
    "\n",
    "    X_train,Y_train,X_test,Y_test = params['data']\n",
    "    #=========================================================================================#\n",
    "    if new_init:\n",
    "        init_path = os.path.join(path,\"initializations\")\n",
    "        try:\n",
    "            os.mkdir(f'{init_path}\\\\{data_curr}')\n",
    "\n",
    "        except:\n",
    "            print(\"\")\n",
    "\n",
    "        path_new_init = f'{init_path}\\\\{data_curr}\\\\{data_curr}-{initialization}.npy'\n",
    "        np.save(path_new_init,start_weights)\n",
    "\n",
    "    weights_per_layer = []\n",
    "\n",
    "    for items in network:\n",
    "        if items.__class__.__name__ == 'Dense':\n",
    "            weights_per_layer.append(items.weights.shape[0]*items.weights.shape[1])\n",
    "\n",
    "\n",
    "    sum_ = weights_per_layer[0]\n",
    "    for i in range(1,len(weights_per_layer)):\n",
    "        sum_ += weights_per_layer[i]\n",
    "        weights_per_layer[i] = sum_"
   ]
  },
  {
   "cell_type": "code",
   "execution_count": 18,
   "metadata": {},
   "outputs": [],
   "source": [
    "df_train_sparse = {f'{init}':[]for init in initialization_list}\n",
    "df_test_sparse = {f'{init}':[]for init in initialization_list}\n",
    "df_train_epoch = {f'{init}':[]for init in initialization_list}\n",
    "df_test_epoch = {f'{init}':[]for init in initialization_list}"
   ]
  },
  {
   "cell_type": "code",
   "execution_count": 54,
   "metadata": {},
   "outputs": [
    {
     "name": "stdout",
     "output_type": "stream",
     "text": [
      "[[ 2.66986214e-01  2.90237530e+00  3.35050154e-01 -1.26220473e+00\n",
      "  -1.26366966e+00 -1.05610444e+00 -1.17211992e+00 -1.28515263e+00\n",
      "  -1.58214636e+00 -2.15994744e+00 -1.06315349e+00  8.74267262e-01\n",
      "  -5.36280468e-02  1.90538112e+00 -1.11789034e+00 -3.33936474e+00\n",
      "  -2.85756340e+00  1.41954711e+00  1.37112060e+00 -2.20635760e-01\n",
      "   1.08635476e+00  3.11420329e-01 -2.59524792e-01 -6.92904650e-01\n",
      "  -1.74734149e+00  2.38715467e-01 -2.50442003e+00 -1.24622810e+00\n",
      "  -7.60125463e-03 -1.31111133e+00  1.36640460e+00  9.24816442e-01\n",
      "   7.31054786e-01 -2.31304600e+00  8.77643803e-01  6.33218878e-01\n",
      "   1.68306312e+00 -5.49862804e-01 -1.34134466e+00 -2.17008026e-01\n",
      "   7.26386029e-01  1.87321020e+00  1.57468410e+00  3.98561871e-01\n",
      "  -2.69908369e-01 -1.91052429e+00 -3.51836982e-01  5.46849589e-01\n",
      "  -1.12603382e+00  7.56784215e-01 -1.12625820e+00 -1.06564426e+00\n",
      "   1.69639860e+00  1.26428709e-01  6.02445596e-01  1.71813377e+00\n",
      "  -1.92111070e-01  1.01076529e+00  6.08215236e-01  1.34587949e+00]\n",
      " [ 1.44079292e+00  1.75936688e+00 -3.65180342e-01 -9.04383096e-01\n",
      "   3.46458042e+00  1.48425591e+00 -5.07588818e+00 -1.45818986e+00\n",
      "   6.62568432e+00  5.20287529e+00  3.40475256e+00  6.72499172e+00\n",
      "   3.68266814e+00  3.23416035e+00 -3.68659617e+00 -2.20780262e+00\n",
      "  -3.13708029e+00  2.61566032e+00 -2.00440973e-01 -2.79647531e+00\n",
      "   1.91586119e+00  2.55455574e+00  5.50510861e-01  1.07202233e+00\n",
      "  -4.04875256e+00 -3.98156889e-01 -2.49427310e+00  4.02985435e+00\n",
      "   3.14116515e+00 -3.90611131e+00 -1.83446886e+00  2.40615679e+00\n",
      "  -1.15974205e+00 -3.78250646e+00  4.09852534e-02 -2.91717900e+00\n",
      "   3.40491638e-01 -9.10641434e-01 -2.19847818e+00  3.56778175e-01\n",
      "   5.38772436e+00 -2.91134750e-01  5.58787680e+00  3.90291783e+00\n",
      "   4.58882608e+00  1.46583049e+00 -2.66490602e+00 -1.61772027e-01\n",
      "  -5.04487969e-01 -1.95277405e+00 -1.90495834e+00 -2.15659893e+00\n",
      "  -6.13441061e-01 -2.21067128e+00 -9.10597855e-01 -1.53933611e+00\n",
      "  -9.87970725e-01 -1.88212397e+00 -6.34840908e-01 -3.33609774e+00]\n",
      " [ 7.88040668e-01  7.95794393e-01  3.68724578e-02  1.45691021e-01\n",
      "   7.75058351e-01  2.55716725e-01  1.12210428e+00 -8.68789898e-01\n",
      "  -1.08029674e+00  1.69540182e-01  1.86599268e+00  2.89069118e-01\n",
      "   1.32614861e+00  9.03997815e-02 -2.01167390e+00 -8.43540829e-01\n",
      "  -9.04255267e-01  5.16320918e-01  3.29833855e-01  2.36354705e-01\n",
      "  -1.02347734e+00 -1.18580397e-01 -1.03592902e+00  9.57839326e-01\n",
      "   2.78007457e-01 -1.55994845e+00 -4.21485283e-01  7.08413796e-01\n",
      "  -6.20812499e-01  2.96680126e-01 -1.67311745e+00 -3.60537352e-01\n",
      "   5.23507320e-01 -7.88526964e-01  1.07514525e+00 -4.61094976e-01\n",
      "   5.65558186e-02 -1.50289018e+00 -3.62410283e-01 -7.31199395e-01\n",
      "  -5.69555471e-02 -6.05710581e-01 -2.41352362e-01 -1.55547222e+00\n",
      "   4.26117495e-01  2.36598656e+00 -5.27044592e-01  3.87210885e-01\n",
      "   1.54418766e+00 -1.74588728e-01 -5.90981273e-01  1.02979456e+00\n",
      "   2.60935998e-01 -2.80777466e-01  1.49018961e+00 -1.69341294e+00\n",
      "   7.49951864e-05  1.80069680e+00  7.47465801e-01  3.55931735e-01]\n",
      " [ 1.50112256e+00  3.86479710e-01  1.22044525e+00  2.07560697e+00\n",
      "   3.52659275e-01 -9.51231225e-02 -1.61214262e+00  5.73874344e-01\n",
      "   1.20401118e+00 -2.63792772e+00  2.17901030e+00  6.21144907e-01\n",
      "  -2.26162251e+00 -1.30324164e+00  2.14735426e+00  1.26928738e+00\n",
      "   1.43979544e+00 -2.01720322e+00 -8.91383719e-02  1.51207770e+00\n",
      "   1.82193309e+00 -4.41870779e-01  2.12428541e+00  1.70370787e+00\n",
      "  -1.54119075e+00 -1.90418032e+00 -1.96073294e+00 -1.78727586e+00\n",
      "  -1.39220441e+00  2.02719556e+00 -1.65224854e+00 -2.31040275e-02\n",
      "   3.37048417e+00  1.19777687e+00  2.55260883e-01 -1.58157566e+00\n",
      "  -2.42177880e+00 -3.46469282e-03  2.30132491e+00 -8.57912113e-01\n",
      "   1.47617502e+00  9.01735959e-01  2.68896288e-02  1.14789536e+00\n",
      "   9.76386157e-01 -1.57745179e+00 -1.04722019e+00 -7.94868921e-01\n",
      "   3.23711205e-01  8.91351819e-01 -2.14913468e-01  1.62271355e-01\n",
      "   1.81007216e+00 -1.39874909e-01 -4.67169273e-01  5.75552632e-02\n",
      "   8.22098266e-01 -1.04865627e+00  8.15481525e-01  3.37465600e-01]]\n",
      "[[-0.72627395]\n",
      " [-1.67790947]\n",
      " [-0.28000853]\n",
      " [-1.42861314]]\n",
      "[[ 3.26439479 -1.62532165 -1.03946334 -1.87559674]\n",
      " [ 0.61515251 -1.21051803  0.15367267 -0.50290946]\n",
      " [ 0.71840209 -0.27106467 -0.62360873  1.44276373]\n",
      " [ 0.06602472 -1.58091137  0.92376589  1.5328502 ]\n",
      " [-0.84394901  0.03441127  0.42305185  0.58343679]\n",
      " [-0.0352842  -0.59082176 -0.23118903 -1.59652655]\n",
      " [ 1.82614501 -1.55005629  1.10590489 -2.04201799]\n",
      " [ 1.2592578  -1.88308899  1.30660459 -2.25752848]\n",
      " [-0.03814986 -0.65752599 -0.63917923  1.41790507]\n",
      " [-0.68108774  0.66251223  1.87403387  1.61043758]\n",
      " [-2.79798039  3.34132949 -0.24833799  2.02874428]\n",
      " [-1.17857489 -0.51807854 -0.07221838  2.60403024]\n",
      " [ 0.62248195  0.84765949  2.24377124  0.17611381]\n",
      " [ 1.84667819 -1.25747543  3.07863639 -0.81262824]\n",
      " [ 0.10654776  1.39034259  0.0096762  -0.75871485]]\n",
      "[[-0.05877874]\n",
      " [-0.41279913]\n",
      " [-0.46533261]\n",
      " [-1.26445021]\n",
      " [-0.55286183]\n",
      " [ 0.99989405]\n",
      " [ 0.11037877]\n",
      " [ 0.5561    ]\n",
      " [-2.5292501 ]\n",
      " [-1.1469434 ]\n",
      " [-1.55575146]\n",
      " [-1.41106739]\n",
      " [-0.88688799]\n",
      " [ 0.07371496]\n",
      " [ 2.206547  ]]\n",
      "[[ 2.03612336  1.14242476 -0.5889543  -0.65255735  0.65458942  1.39975137\n",
      "   0.80874117  1.11342554 -0.65659117 -1.36453604 -2.70046943 -0.88808665\n",
      "   0.15383029  1.8054432  -1.33241952]\n",
      " [-2.01199232 -0.87751883 -0.43311015  0.05494465  1.27376506 -0.85222273\n",
      "  -2.48201605 -1.66323138  1.92942367  0.30509249  3.12621613  2.00947483\n",
      "   0.89161748 -0.43102487 -0.58277312]]\n",
      "[[ 0.41581291]\n",
      " [-0.1793931 ]]\n"
     ]
    }
   ],
   "source": [
    "visualize_weights(network_list[8])"
   ]
  },
  {
   "cell_type": "code",
   "execution_count": 52,
   "metadata": {},
   "outputs": [],
   "source": [
    "\n",
    "network = np.copy(network_list[8])\n",
    "initialization = 1\n",
    "# train_sparse, test_sparse = train(network, loss,loss_prime,X_train,Y_train,X_test,Y_test,epochs=epochs,learning_rate=lr,verbose=False,store_weights=False,mask_weight=True,mask_list=mask_list,weights_per_layer=weights_per_layer)\n",
    "# network = initialize_Weights(network,params['init'])\n",
    "train_acc, test_acc = train(network, loss,loss_prime,X_train,Y_train,X_test,Y_test,epochs=50,learning_rate=0.2,verbose=False,store_weights=False,mask_weight=False,mask_list=[],weights_per_layer=weights_per_layer)\n",
    "# df_test_sparse[f'{initialization}'] = test_sparse\n",
    "df_test_epoch[f'{initialization}'] = test_acc\n",
    "\n",
    "# df_train_sparse[f'{initialization}'] = train_sparse\n",
    "df_train_epoch[f'{initialization}'] = train_acc"
   ]
  },
  {
   "cell_type": "code",
   "execution_count": 53,
   "metadata": {},
   "outputs": [
    {
     "data": {
      "image/png": "[encoded data removed]",
      "text/plain": [
       "<Figure size 432x288 with 1 Axes>"
      ]
     },
     "metadata": {
      "needs_background": "light"
     },
     "output_type": "display_data"
    }
   ],
   "source": [
    "visualize(df_train_epoch[f'{initialization}'],df_test_epoch[f'{initialization}'])"
   ]
  },
  {
   "cell_type": "code",
   "execution_count": 22,
   "metadata": {},
   "outputs": [
    {
     "data": {
      "image/png": "[encoded data removed]",
      "text/plain": [
       "<Figure size 432x288 with 1 Axes>"
      ]
     },
     "metadata": {
      "needs_background": "light"
     },
     "output_type": "display_data"
    }
   ],
   "source": [
    "visualize(df_train_epoch[f'{initialization}'],df_test_epoch[f'{initialization}'])"
   ]
  },
  {
   "cell_type": "code",
   "execution_count": 24,
   "metadata": {},
   "outputs": [
    {
     "data": {
      "image/png": "[encoded data removed]",
      "text/plain": [
       "<Figure size 432x288 with 1 Axes>"
      ]
     },
     "metadata": {
      "needs_background": "light"
     },
     "output_type": "display_data"
    }
   ],
   "source": [
    "visualize(df_train_epoch[f'{initialization}'],df_test_epoch[f'{initialization}'])"
   ]
  },
  {
   "cell_type": "code",
   "execution_count": null,
   "metadata": {},
   "outputs": [],
   "source": []
  }
 ],
 "metadata": {
  "kernelspec": {
   "display_name": "Python 3",
   "language": "python",
   "name": "python3"
  },
  "language_info": {
   "codemirror_mode": {
    "name": "ipython",
    "version": 3
   },
   "file_extension": ".py",
   "mimetype": "text/x-python",
   "name": "python",
   "nbconvert_exporter": "python",
   "pygments_lexer": "ipython3",
   "version": "3.10.4"
  },
  "orig_nbformat": 4,
  "vscode": {
   "interpreter": {
    "hash": "369f2c481f4da34e4445cda3fffd2e751bd1c4d706f27375911949ba6bb62e1c"
   }
  }
 },
 "nbformat": 4,
 "nbformat_minor": 2
}
